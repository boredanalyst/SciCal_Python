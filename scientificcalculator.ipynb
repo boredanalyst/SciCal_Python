{
  "nbformat": 4,
  "nbformat_minor": 0,
  "metadata": {
    "colab": {
      "provenance": []
    },
    "kernelspec": {
      "name": "python3",
      "display_name": "Python 3"
    },
    "language_info": {
      "name": "python"
    }
  },
  "cells": [
    {
      "cell_type": "markdown",
      "source": [
        "# Scientific Calculator"
      ],
      "metadata": {
        "id": "c1ek4OLbbqJH"
      }
    },
    {
      "cell_type": "markdown",
      "source": [
        "## Set-up"
      ],
      "metadata": {
        "id": "nj_DTHCEcPX5"
      }
    },
    {
      "cell_type": "code",
      "source": [
        "# Declaring the main menu:\n",
        "\n",
        "main_menu = {1:\"Basic Operations\",2:\"Advanced Arithmetic\",3:\"Trigonometric Functions\"}\n",
        "\n",
        "# Declaring the sub-menus\n",
        "basic_menu = {1:\"Add\",2:\"Subtract\",3:\"Multiply\",4:\"Divide\",5:\"Modulus\"};\n",
        "advanced_menu = {1:\"Square root\",2:\"Logarithm\",3:\"Exponent\"};\n",
        "trig_menu = {1:\"Sine\",2:\"Cosine\",3:\"Tangent\"}"
      ],
      "metadata": {
        "id": "lUj_-nkRcSG5"
      },
      "execution_count": 45,
      "outputs": []
    },
    {
      "cell_type": "code",
      "source": [
        "# Show the main menu\n",
        "\n",
        "def showMainMenu():\n",
        "  print(\"--------------------------------------\")\n",
        "  print(\"MAIN MENU\")\n",
        "  print(\"Please provide the number assigned to the menu you want to open.\")\n",
        "  for x in main_menu:\n",
        "    print(str(x) + \": \" + main_menu[x])\n",
        "  user_input = int(input(\"Input your choice here: \"))\n",
        "  if user_input == 1:\n",
        "    showBasicMenu();\n",
        "  elif user_input == 2:\n",
        "    showAdvMenu();\n",
        "  elif user_input == 3:\n",
        "    showTrigMenu();\n",
        "\n",
        "def showBasicMenu():\n",
        "  print(\"--------------------------------------\")\n",
        "  print(\"BASIC OPERATIONS\")\n",
        "  print(\"Please provide the number assigned to the option you want to use:\")\n",
        "  for x in basic_menu:\n",
        "    print(str(x) +\": \" + basic_menu[x])\n",
        "  user_input = int(input(\"Input your choice here: \"))\n",
        "  if user_input == 1:\n",
        "    add()\n",
        "  elif user_input == 2:\n",
        "    subtract()\n",
        "  elif user_input == 3:\n",
        "    multiply()\n",
        "  elif user_input == 4:\n",
        "    divide()\n",
        "  elif user_input == 5:\n",
        "    modulus()\n",
        "\n",
        "def showAdvMenu():\n",
        "  print(\"--------------------------------------\")\n",
        "  print(\"ADVANCED ARITHMETIC\")\n",
        "  print(\"Please provide the number assigned to the option you want to use:\")\n",
        "  for x in advanced_menu:\n",
        "    print(str(x) +\": \" + advanced_menu[x])\n",
        "\n",
        "def showTrigMenu():\n",
        "  print(\"--------------------------------------\")\n",
        "  print(\"TRIGONOMETRIC FUNCTIONS\")\n",
        "  print(\"Please provide the number assigned to the option you want to use:\")\n",
        "  for x in trig_menu:\n",
        "    print(str(x) +\": \" + trig_menu[x]) \n"
      ],
      "metadata": {
        "id": "7NWFmjIncqMV"
      },
      "execution_count": 50,
      "outputs": []
    },
    {
      "cell_type": "markdown",
      "source": [
        "## Basic Operations"
      ],
      "metadata": {
        "id": "W9lMicQ5srmJ"
      }
    },
    {
      "cell_type": "code",
      "source": [
        "## Setting up the operations.\n",
        "\n",
        "def add():\n",
        "  print(\"--------------------------------------\")\n",
        "  print(\"ADDITION\");\n",
        "  try:\n",
        "    num1 = int(input(\"Please provide your first number: \"))\n",
        "    print(num1);\n",
        "    num2 = int(input(\"Please provide your second number: \"))\n",
        "    print(str(num1) + \" + \" + str(num2))\n",
        "    print(f'Answer: {num1 + num2}')\n",
        "  except ValueError:\n",
        "    print(\"Error: Your input should be a valid number.\")\n",
        "    add()\n",
        "\n",
        "def subtract():\n",
        "  print(\"--------------------------------------\")\n",
        "  print(\"SUBTRACTION\");\n",
        "  try:\n",
        "    num1 = int(input(\"Please provide your first number: \"))\n",
        "    print(num1);\n",
        "    num2 = int(input(\"Please provide your second number: \"))\n",
        "    print(str(num1) + \" - \" + str(num2))\n",
        "    print(f'Answer: {num1 - num2}')\n",
        "  except ValueError:\n",
        "    print(\"Error: Your input should be a valid number.\")\n",
        "    subtract()\n",
        "\n",
        "def multiply():\n",
        "  print(\"--------------------------------------\")\n",
        "  print(\"MULTIPLICATION\");\n",
        "  try:\n",
        "    num1 = int(input(\"Please provide your first number: \"))\n",
        "    print(num1);\n",
        "    num2 = int(input(\"Please provide your second number: \"))\n",
        "    print(str(num1) + \" * \" + str(num2))\n",
        "    print(f'Answer: {num1 * num2}')\n",
        "  except ValueError:\n",
        "    print(\"Error: Your input should be a valid number.\")\n",
        "    multiply()\n",
        "\n",
        "def divide():\n",
        "  print(\"--------------------------------------\")\n",
        "  print(\"DIVISION\");\n",
        "  try:\n",
        "    num1 = int(input(\"Please provide your first number: \"))\n",
        "    print(num1);\n",
        "    num2 = int(input(\"Please provide your second number: \"))\n",
        "    print(str(num1) + \" / \" + str(num2))\n",
        "    print(f'Answer: {num1 / num2}')\n",
        "  except ValueError:\n",
        "    print(\"Error: Your input should be a valid number.\")\n",
        "    divide()\n",
        "  except ZeroDivisionError:\n",
        "    print(\"Error: You cannot divide a number by zero.\")\n",
        "\n",
        "def modulus():\n",
        "  print(\"--------------------------------------\")\n",
        "  print(\"MODULUS\");\n",
        "  try:\n",
        "    num1 = int(input(\"Please provide your first number: \"))\n",
        "    print(num1);\n",
        "    num2 = int(input(\"Please provide your second number: \"))\n",
        "    print(str(num1) + \" % \" + str(num2))\n",
        "    print(f'Answer: {num1 % num2}')\n",
        "  except ValueError:\n",
        "    print(\"Error: Your input should be a valid number.\")\n",
        "    modulus()"
      ],
      "metadata": {
        "id": "xHnKKAVZoOYS"
      },
      "execution_count": 56,
      "outputs": []
    },
    {
      "cell_type": "markdown",
      "source": [
        "## Menus"
      ],
      "metadata": {
        "id": "OFlKTHWAjTSX"
      }
    },
    {
      "cell_type": "code",
      "source": [
        "showMainMenu()"
      ],
      "metadata": {
        "id": "slKoJuh0eIEb"
      },
      "execution_count": null,
      "outputs": []
    },
    {
      "cell_type": "code",
      "source": [],
      "metadata": {
        "id": "0JwR1ncMvsOO"
      },
      "execution_count": null,
      "outputs": []
    }
  ]
}